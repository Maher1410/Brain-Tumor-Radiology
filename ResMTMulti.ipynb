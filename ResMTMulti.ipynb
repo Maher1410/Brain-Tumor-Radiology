{
 "cells": [
  {
   "cell_type": "code",
   "execution_count": 18,
   "metadata": {},
   "outputs": [],
   "source": [
    "#%% -------- 1. Critical Configuration Fixes --------\n",
    "import lightning.pytorch as pl\n",
    "import torch\n",
    "import torch.nn as nn\n",
    "import torch.optim as optim\n",
    "from torchvision import transforms, models\n",
    "from torch.utils.data import DataLoader, WeightedRandomSampler\n",
    "from torchvision.datasets import ImageFolder\n",
    "import numpy as np\n",
    "import matplotlib.pyplot as plt\n",
    "import seaborn as sns\n",
    "from sklearn.metrics import confusion_matrix, classification_report\n",
    "import os\n",
    "import splitfolders\n",
    "from torch.optim.lr_scheduler import OneCycleLR\n",
    "import torchmetrics\n",
    "from torch.nn import TransformerEncoderLayer, TransformerEncoder\n",
    "\n",
    "\n",
    "# Hardware config\n",
    "NUM_CLASSES = 4\n",
    "IMG_SIZE = 224\n",
    "BATCH_SIZE = 32\n",
    "NUM_WORKERS = 4\n",
    "PRECISION = '16-mixed'\n",
    "EPOCHS = 100\n",
    "DATA_ROOT = \"2nd Classification\"  # Updated path\n",
    "SPLIT_ROOT = \"Split_Dataset\"\n",
    "SEED = 42\n",
    "CLASS_NAMES = ['Type 0', 'Type 1 Neurapraxia', 'Type 2 Axonotemsis', 'Type 3 Nurotemesis']  # Match folder names exactly\n",
    "\n",
    "# Verify folder structure\n",
    "assert os.path.exists(os.path.join(DATA_ROOT, 'Type 0')), \"Type 0 folder missing\"\n",
    "assert os.path.exists(os.path.join(DATA_ROOT, 'Type 1 Neurapraxia')), \"Type 1 folder missing\""
   ]
  },
  {
   "cell_type": "code",
   "execution_count": 19,
   "metadata": {},
   "outputs": [
    {
     "name": "stdout",
     "output_type": "stream",
     "text": [
      "Class distribution: {'Type 0': 158, 'Type 1 Neurapraxia': 398, 'Type 2 Axonotemsis': 57, 'Type 3 Nurotemesis': 64}\n"
     ]
    }
   ],
   "source": [
    "#%% -------- 2. Data Preparation & Sanity Checks --------\n",
    "# Use existing splits if already created\n",
    "if not os.path.exists(SPLIT_ROOT):\n",
    "    import splitfolders\n",
    "    splitfolders.ratio(\n",
    "        DATA_ROOT,\n",
    "        output=SPLIT_ROOT,\n",
    "        seed=SEED,\n",
    "        ratio=(0.7, 0.15, 0.15),\n",
    "        group_prefix=None,\n",
    "        stratified=True,\n",
    "        move=False\n",
    "    )\n",
    "\n",
    "# Simplified transforms for medical images\n",
    "train_transform = transforms.Compose([\n",
    "    transforms.Grayscale(num_output_channels=3),\n",
    "    transforms.Resize((IMG_SIZE, IMG_SIZE)),\n",
    "    transforms.RandomHorizontalFlip(p=0.2),\n",
    "    transforms.ToTensor(),\n",
    "    transforms.Normalize([0.485, 0.456, 0.406], [0.229, 0.224, 0.225])  # ImageNet stats\n",
    "])\n",
    "\n",
    "val_transform = transforms.Compose([\n",
    "    transforms.Grayscale(num_output_channels=3),\n",
    "    transforms.Resize((IMG_SIZE, IMG_SIZE)),\n",
    "    transforms.ToTensor(),\n",
    "    transforms.Normalize([0.485, 0.456, 0.406], [0.229, 0.224, 0.225])\n",
    "])\n",
    "\n",
    "# Load datasets with verification\n",
    "train_dataset = ImageFolder(os.path.join(SPLIT_ROOT, 'train'), train_transform)\n",
    "val_dataset = ImageFolder(os.path.join(SPLIT_ROOT, 'val'), val_transform)\n",
    "test_dataset = ImageFolder(os.path.join(SPLIT_ROOT, 'test'), val_transform)\n",
    "\n",
    "# Final class validation\n",
    "assert train_dataset.classes == CLASS_NAMES, \\\n",
    "    f\"Class mismatch: {train_dataset.classes} vs {CLASS_NAMES}\"\n",
    "\n",
    "# Enhanced class balancing\n",
    "class_counts = np.bincount(train_dataset.targets)\n",
    "print(\"Class distribution:\", {name: count for name, count in zip(CLASS_NAMES, class_counts)})\n",
    "class_weights = torch.tensor(1 / (np.sqrt(class_counts) + 1e-6), dtype=torch.float32)\n",
    "class_weights = (class_weights / class_weights.sum()) * NUM_CLASSES\n",
    "sampler = WeightedRandomSampler(class_weights[train_dataset.targets], len(train_dataset), replacement=True)"
   ]
  },
  {
   "cell_type": "code",
   "execution_count": 20,
   "metadata": {},
   "outputs": [],
   "source": [
    "#%% -------- 3. ResMT Model Architecture --------\n",
    "class MedicalResMT(pl.LightningModule):\n",
    "    def __init__(self, embed_dim=512, num_heads=8, num_layers=3, dropout=0.1):\n",
    "        super().__init__()\n",
    "        # ResNet-50 Backbone\n",
    "        resnet = models.resnet50(weights=models.ResNet50_Weights.DEFAULT)\n",
    "        self.cnn_backbone = nn.Sequential(\n",
    "            resnet.conv1,\n",
    "            resnet.bn1,\n",
    "            resnet.relu,\n",
    "            resnet.maxpool,\n",
    "            resnet.layer1,\n",
    "            resnet.layer2,\n",
    "            resnet.layer3,\n",
    "            resnet.layer4\n",
    "        )\n",
    "        \n",
    "        # Feature adaptation\n",
    "        self.feature_adapt = nn.Sequential(\n",
    "            nn.Conv2d(2048, embed_dim, 1),  # Reduce channels to embed_dim\n",
    "            nn.BatchNorm2d(embed_dim),\n",
    "            nn.GELU()\n",
    "        )\n",
    "        \n",
    "        # Transformer components\n",
    "        self.positional_encoding = nn.Parameter(torch.randn(49, 1, embed_dim))\n",
    "        encoder_layer = TransformerEncoderLayer(\n",
    "            d_model=embed_dim,\n",
    "            nhead=num_heads,\n",
    "            dim_feedforward=embed_dim*4,\n",
    "            dropout=dropout,\n",
    "            batch_first=False\n",
    "        )\n",
    "        self.transformer_encoder = TransformerEncoder(encoder_layer, num_layers)\n",
    "        \n",
    "        # Classifier\n",
    "        self.classifier = nn.Sequential(\n",
    "            nn.LayerNorm(embed_dim),\n",
    "            nn.Dropout(0.3),\n",
    "            nn.Linear(embed_dim, NUM_CLASSES)\n",
    "        )\n",
    "\n",
    "        # Freezing strategy\n",
    "        for param in self.cnn_backbone.parameters():\n",
    "            param.requires_grad = False\n",
    "        for param in self.cnn_backbone[-1].parameters():  # Unfreeze last ResNet layer\n",
    "            param.requires_grad = True\n",
    "\n",
    "    def forward(self, x):\n",
    "        # CNN Feature extraction\n",
    "        x = self.cnn_backbone(x)  # Output: (BS, 2048, 7, 7)\n",
    "        \n",
    "        # Feature adaptation\n",
    "        x = self.feature_adapt(x)  # (BS, embed_dim, 7, 7)\n",
    "        \n",
    "        # Prepare for transformer\n",
    "        x = x.flatten(2).permute(2, 0, 1)  # (49, BS, embed_dim)\n",
    "        x = x + self.positional_encoding\n",
    "        \n",
    "        # Transformer processing\n",
    "        x = self.transformer_encoder(x)  # (49, BS, embed_dim)\n",
    "        \n",
    "        # Aggregate and classify\n",
    "        x = x.mean(dim=0)  # (BS, embed_dim)\n",
    "        return self.classifier(x)"
   ]
  },
  {
   "cell_type": "code",
   "execution_count": 21,
   "metadata": {},
   "outputs": [],
   "source": [
    "#%% -------- 4. Optimized Training Setup --------\n",
    "class LitModel(pl.LightningModule):\n",
    "    def __init__(self):\n",
    "        super().__init__()\n",
    "        self.model = MedicalResMT()\n",
    "        self.criterion = nn.CrossEntropyLoss(weight=class_weights.to('cuda'))\n",
    "        \n",
    "        # Metrics\n",
    "        self.train_acc = torchmetrics.Accuracy(task='multiclass', num_classes=NUM_CLASSES)\n",
    "        self.val_acc = torchmetrics.Accuracy(task='multiclass', num_classes=NUM_CLASSES)\n",
    "        self.train_f1 = torchmetrics.F1Score(task='multiclass', num_classes=NUM_CLASSES)\n",
    "        self.val_f1 = torchmetrics.F1Score(task='multiclass', num_classes=NUM_CLASSES)\n",
    "\n",
    "    def forward(self, x):\n",
    "        return self.model(x)\n",
    "\n",
    "    def training_step(self, batch, batch_idx):\n",
    "        x, y = batch\n",
    "        logits = self(x)\n",
    "        loss = self.criterion(logits, y)\n",
    "        \n",
    "        # First batch verification\n",
    "        if batch_idx == 0:\n",
    "            print(\"\\nFirst batch verification:\")\n",
    "            print(\"Input shape:\", x.shape)\n",
    "            print(\"Label distribution:\", torch.bincount(y, minlength=NUM_CLASSES))\n",
    "            print(\"Sample predictions:\", torch.softmax(logits[:3], dim=1).detach().cpu().numpy())\n",
    "        \n",
    "        self.log_metrics(logits, y, 'train')\n",
    "        return loss\n",
    "\n",
    "    def validation_step(self, batch, batch_idx):\n",
    "        x, y = batch\n",
    "        logits = self(x)\n",
    "        self.log_metrics(logits, y, 'val')\n",
    "        return self.criterion(logits, y)\n",
    "\n",
    "    def log_metrics(self, logits, y, prefix):\n",
    "        self._update_metrics(getattr(self, f'{prefix}_acc'), \n",
    "                            getattr(self, f'{prefix}_f1'), \n",
    "                            logits, y)\n",
    "        self.log_dict({\n",
    "            f'{prefix}_loss': self.criterion(logits, y),\n",
    "            f'{prefix}_acc': getattr(self, f'{prefix}_acc'),\n",
    "            f'{prefix}_f1': getattr(self, f'{prefix}_f1'),\n",
    "        }, prog_bar=True)\n",
    "\n",
    "    def _update_metrics(self, acc_metric, f1_metric, logits, y):\n",
    "        acc_metric(logits, y)\n",
    "        f1_metric(logits, y)\n",
    "\n",
    "    def configure_optimizers(self):\n",
    "        optimizer = optim.AdamW(filter(lambda p: p.requires_grad, self.parameters()), \n",
    "                               lr=2e-4, weight_decay=0.001)\n",
    "        scheduler = torch.optim.lr_scheduler.ReduceLROnPlateau(optimizer, patience=3)\n",
    "        return {\n",
    "            'optimizer': optimizer,\n",
    "            'lr_scheduler': {\n",
    "                'scheduler': scheduler,\n",
    "                'monitor': 'val_loss',\n",
    "                'interval': 'epoch'\n",
    "            }\n",
    "        }"
   ]
  },
  {
   "cell_type": "code",
   "execution_count": 22,
   "metadata": {},
   "outputs": [
    {
     "name": "stderr",
     "output_type": "stream",
     "text": [
      "Using 16bit Automatic Mixed Precision (AMP)\n",
      "GPU available: True (cuda), used: True\n",
      "TPU available: False, using: 0 TPU cores\n",
      "IPU available: False, using: 0 IPUs\n",
      "HPU available: False, using: 0 HPUs\n",
      "LOCAL_RANK: 0 - CUDA_VISIBLE_DEVICES: [0]\n",
      "\n",
      "  | Name      | Type               | Params\n",
      "-------------------------------------------------\n",
      "0 | model     | MedicalResMT       | 34.0 M\n",
      "1 | criterion | CrossEntropyLoss   | 0     \n",
      "2 | train_acc | MulticlassAccuracy | 0     \n",
      "3 | val_acc   | MulticlassAccuracy | 0     \n",
      "4 | train_f1  | MulticlassF1Score  | 0     \n",
      "5 | val_f1    | MulticlassF1Score  | 0     \n",
      "-------------------------------------------------\n",
      "25.5 M    Trainable params\n",
      "8.5 M     Non-trainable params\n",
      "34.0 M    Total params\n",
      "136.174   Total estimated model params size (MB)\n"
     ]
    },
    {
     "data": {
      "application/vnd.jupyter.widget-view+json": {
       "model_id": "f7554d061e3d49ee94c01f60c07a599b",
       "version_major": 2,
       "version_minor": 0
      },
      "text/plain": [
       "Sanity Checking: |          | 0/? [00:00<?, ?it/s]"
      ]
     },
     "metadata": {},
     "output_type": "display_data"
    },
    {
     "name": "stderr",
     "output_type": "stream",
     "text": [
      "C:\\Users\\DELL 5540\\AppData\\Roaming\\Python\\Python311\\site-packages\\lightning\\pytorch\\loops\\fit_loop.py:293: The number of training batches (22) is smaller than the logging interval Trainer(log_every_n_steps=50). Set a lower value for log_every_n_steps if you want to see logs for the training epoch.\n"
     ]
    },
    {
     "data": {
      "application/vnd.jupyter.widget-view+json": {
       "model_id": "ccfc4d0da9b44060b1d4a9586d3a96a0",
       "version_major": 2,
       "version_minor": 0
      },
      "text/plain": [
       "Training: |          | 0/? [00:00<?, ?it/s]"
      ]
     },
     "metadata": {},
     "output_type": "display_data"
    },
    {
     "name": "stdout",
     "output_type": "stream",
     "text": [
      "\n",
      "First batch verification:\n",
      "Input shape: torch.Size([32, 3, 224, 224])\n",
      "Label distribution: tensor([ 6, 14,  9,  3], device='cuda:0')\n",
      "Sample predictions: [[0.23367997 0.11702929 0.30177742 0.34751335]\n",
      " [0.24014023 0.21518478 0.17091228 0.37376273]\n",
      " [0.10304175 0.10284069 0.6085099  0.18560769]]\n"
     ]
    },
    {
     "data": {
      "application/vnd.jupyter.widget-view+json": {
       "model_id": "b660df61181e4fbfba66b8ed305de1ee",
       "version_major": 2,
       "version_minor": 0
      },
      "text/plain": [
       "Validation: |          | 0/? [00:00<?, ?it/s]"
      ]
     },
     "metadata": {},
     "output_type": "display_data"
    },
    {
     "name": "stdout",
     "output_type": "stream",
     "text": [
      "\n",
      "First batch verification:\n",
      "Input shape: torch.Size([32, 3, 224, 224])\n",
      "Label distribution: tensor([10,  7,  7,  8], device='cuda:0')\n",
      "Sample predictions: [[0.29459807 0.41322443 0.02537975 0.26679775]\n",
      " [0.24532469 0.4342531  0.01098336 0.30943882]\n",
      " [0.13545105 0.21432051 0.01365764 0.6365708 ]]\n"
     ]
    },
    {
     "data": {
      "application/vnd.jupyter.widget-view+json": {
       "model_id": "986a71db1d3f425fa4a0135e44fa4c68",
       "version_major": 2,
       "version_minor": 0
      },
      "text/plain": [
       "Validation: |          | 0/? [00:00<?, ?it/s]"
      ]
     },
     "metadata": {},
     "output_type": "display_data"
    },
    {
     "name": "stdout",
     "output_type": "stream",
     "text": [
      "\n",
      "First batch verification:\n",
      "Input shape: torch.Size([32, 3, 224, 224])\n",
      "Label distribution: tensor([ 9, 12,  5,  6], device='cuda:0')\n",
      "Sample predictions: [[0.5853997  0.40628725 0.00392135 0.0043917 ]\n",
      " [0.61201745 0.31136924 0.00193087 0.07468245]\n",
      " [0.35641462 0.59746534 0.01740162 0.02871846]]\n"
     ]
    },
    {
     "data": {
      "application/vnd.jupyter.widget-view+json": {
       "model_id": "b5247d7234f649d5bbc07089ef8845de",
       "version_major": 2,
       "version_minor": 0
      },
      "text/plain": [
       "Validation: |          | 0/? [00:00<?, ?it/s]"
      ]
     },
     "metadata": {},
     "output_type": "display_data"
    },
    {
     "name": "stdout",
     "output_type": "stream",
     "text": [
      "\n",
      "First batch verification:\n",
      "Input shape: torch.Size([32, 3, 224, 224])\n",
      "Label distribution: tensor([ 9, 13,  2,  8], device='cuda:0')\n",
      "Sample predictions: [[1.4234015e-03 9.7681719e-01 4.8334306e-04 2.1275971e-02]\n",
      " [1.0702312e-02 9.3740559e-01 3.3615626e-02 1.8276500e-02]\n",
      " [1.3458785e-01 8.6401671e-01 8.1118415e-05 1.3143088e-03]]\n"
     ]
    },
    {
     "data": {
      "application/vnd.jupyter.widget-view+json": {
       "model_id": "8e392846108c4409b9bd4e6a4962c12e",
       "version_major": 2,
       "version_minor": 0
      },
      "text/plain": [
       "Validation: |          | 0/? [00:00<?, ?it/s]"
      ]
     },
     "metadata": {},
     "output_type": "display_data"
    },
    {
     "name": "stdout",
     "output_type": "stream",
     "text": [
      "\n",
      "First batch verification:\n",
      "Input shape: torch.Size([32, 3, 224, 224])\n",
      "Label distribution: tensor([10,  9,  6,  7], device='cuda:0')\n",
      "Sample predictions: [[1.0244230e-05 4.9836410e-05 4.5449869e-04 9.9948537e-01]\n",
      " [4.3715245e-06 1.4846558e-05 5.3557416e-04 9.9944514e-01]\n",
      " [9.9436283e-01 5.4390593e-03 1.6352515e-04 3.4478162e-05]]\n"
     ]
    },
    {
     "data": {
      "application/vnd.jupyter.widget-view+json": {
       "model_id": "97f227100c1940ffbbb2335a2210a314",
       "version_major": 2,
       "version_minor": 0
      },
      "text/plain": [
       "Validation: |          | 0/? [00:00<?, ?it/s]"
      ]
     },
     "metadata": {},
     "output_type": "display_data"
    },
    {
     "name": "stdout",
     "output_type": "stream",
     "text": [
      "\n",
      "First batch verification:\n",
      "Input shape: torch.Size([32, 3, 224, 224])\n",
      "Label distribution: tensor([ 9, 13,  6,  4], device='cuda:0')\n",
      "Sample predictions: [[9.9402434e-01 2.5771484e-03 1.2956782e-04 3.2689751e-03]\n",
      " [2.5734594e-04 7.1963313e-04 9.9858356e-01 4.3947354e-04]\n",
      " [3.2010740e-01 6.7634511e-01 2.1990787e-04 3.3275965e-03]]\n"
     ]
    },
    {
     "data": {
      "application/vnd.jupyter.widget-view+json": {
       "model_id": "a71f9b092c924c4eb6542b6e6b6861d3",
       "version_major": 2,
       "version_minor": 0
      },
      "text/plain": [
       "Validation: |          | 0/? [00:00<?, ?it/s]"
      ]
     },
     "metadata": {},
     "output_type": "display_data"
    },
    {
     "name": "stdout",
     "output_type": "stream",
     "text": [
      "\n",
      "First batch verification:\n",
      "Input shape: torch.Size([32, 3, 224, 224])\n",
      "Label distribution: tensor([ 9, 12,  5,  6], device='cuda:0')\n",
      "Sample predictions: [[8.97902879e-04 9.98224795e-01 1.62882759e-04 7.14473717e-04]\n",
      " [3.25790461e-04 1.16561896e-04 5.13138457e-06 9.99552548e-01]\n",
      " [2.52980884e-04 9.97104466e-01 2.09319303e-04 2.43325671e-03]]\n"
     ]
    },
    {
     "data": {
      "application/vnd.jupyter.widget-view+json": {
       "model_id": "1f1668bc719249f0bd2f7b6fd751d310",
       "version_major": 2,
       "version_minor": 0
      },
      "text/plain": [
       "Validation: |          | 0/? [00:00<?, ?it/s]"
      ]
     },
     "metadata": {},
     "output_type": "display_data"
    },
    {
     "name": "stdout",
     "output_type": "stream",
     "text": [
      "\n",
      "First batch verification:\n",
      "Input shape: torch.Size([32, 3, 224, 224])\n",
      "Label distribution: tensor([13, 10,  3,  6], device='cuda:0')\n",
      "Sample predictions: [[3.5468809e-04 6.6676468e-05 2.5602028e-06 9.9957603e-01]\n",
      " [9.9762791e-01 1.6904747e-03 2.4341705e-04 4.3819629e-04]\n",
      " [1.9422065e-03 9.9728405e-01 2.5056754e-04 5.2324857e-04]]\n"
     ]
    },
    {
     "data": {
      "application/vnd.jupyter.widget-view+json": {
       "model_id": "03fdc5d3e96540f8875e1e2ade71250b",
       "version_major": 2,
       "version_minor": 0
      },
      "text/plain": [
       "Validation: |          | 0/? [00:00<?, ?it/s]"
      ]
     },
     "metadata": {},
     "output_type": "display_data"
    },
    {
     "name": "stdout",
     "output_type": "stream",
     "text": [
      "\n",
      "First batch verification:\n",
      "Input shape: torch.Size([32, 3, 224, 224])\n",
      "Label distribution: tensor([ 8, 12,  7,  5], device='cuda:0')\n",
      "Sample predictions: [[6.6715240e-04 9.9903190e-01 4.5003013e-05 2.5595733e-04]\n",
      " [6.0609706e-05 3.9516595e-05 9.9988198e-01 1.7881237e-05]\n",
      " [2.5078485e-04 2.5757263e-05 9.9961239e-01 1.1101375e-04]]\n"
     ]
    },
    {
     "data": {
      "application/vnd.jupyter.widget-view+json": {
       "model_id": "80f70115752c4ab19cdede68f446a7b7",
       "version_major": 2,
       "version_minor": 0
      },
      "text/plain": [
       "Validation: |          | 0/? [00:00<?, ?it/s]"
      ]
     },
     "metadata": {},
     "output_type": "display_data"
    },
    {
     "name": "stdout",
     "output_type": "stream",
     "text": [
      "\n",
      "First batch verification:\n",
      "Input shape: torch.Size([32, 3, 224, 224])\n",
      "Label distribution: tensor([16,  6,  6,  4], device='cuda:0')\n",
      "Sample predictions: [[6.5782478e-05 1.7690474e-04 9.9974924e-01 8.0429108e-06]\n",
      " [9.9833667e-01 1.5314763e-03 9.5205090e-05 3.6633210e-05]\n",
      " [9.9924779e-01 1.2599502e-04 3.1768082e-04 3.0850875e-04]]\n"
     ]
    },
    {
     "data": {
      "application/vnd.jupyter.widget-view+json": {
       "model_id": "039775abb7cb45a5bb03209ce669cf9b",
       "version_major": 2,
       "version_minor": 0
      },
      "text/plain": [
       "Validation: |          | 0/? [00:00<?, ?it/s]"
      ]
     },
     "metadata": {},
     "output_type": "display_data"
    },
    {
     "name": "stdout",
     "output_type": "stream",
     "text": [
      "\n",
      "First batch verification:\n",
      "Input shape: torch.Size([32, 3, 224, 224])\n",
      "Label distribution: tensor([11, 10,  6,  5], device='cuda:0')\n",
      "Sample predictions: [[8.04398395e-03 9.90598738e-01 1.25902903e-03 9.82303100e-05]\n",
      " [9.94303703e-01 4.09413988e-05 1.12163114e-04 5.54329809e-03]\n",
      " [4.28329315e-03 9.92793798e-01 2.86865490e-03 5.43681344e-05]]\n"
     ]
    },
    {
     "data": {
      "application/vnd.jupyter.widget-view+json": {
       "model_id": "7db2ed2498b446889cf60ef36774f158",
       "version_major": 2,
       "version_minor": 0
      },
      "text/plain": [
       "Validation: |          | 0/? [00:00<?, ?it/s]"
      ]
     },
     "metadata": {},
     "output_type": "display_data"
    },
    {
     "name": "stdout",
     "output_type": "stream",
     "text": [
      "\n",
      "First batch verification:\n",
      "Input shape: torch.Size([32, 3, 224, 224])\n",
      "Label distribution: tensor([ 7, 16,  3,  6], device='cuda:0')\n",
      "Sample predictions: [[1.8100921e-02 9.1758388e-01 6.3891947e-02 4.2320587e-04]\n",
      " [9.9949121e-01 5.3466978e-05 3.7004866e-04 8.5273263e-05]\n",
      " [2.1146874e-04 4.2049302e-05 2.4221346e-04 9.9950421e-01]]\n"
     ]
    },
    {
     "data": {
      "application/vnd.jupyter.widget-view+json": {
       "model_id": "60a37559bf214397814a8dd4ba88b5d5",
       "version_major": 2,
       "version_minor": 0
      },
      "text/plain": [
       "Validation: |          | 0/? [00:00<?, ?it/s]"
      ]
     },
     "metadata": {},
     "output_type": "display_data"
    },
    {
     "name": "stdout",
     "output_type": "stream",
     "text": [
      "\n",
      "First batch verification:\n",
      "Input shape: torch.Size([32, 3, 224, 224])\n",
      "Label distribution: tensor([11,  8,  6,  7], device='cuda:0')\n",
      "Sample predictions: [[6.2854531e-05 2.1637261e-05 7.7446742e-04 9.9914098e-01]\n",
      " [3.8257698e-03 9.9214089e-01 3.9069452e-03 1.2632657e-04]\n",
      " [9.9726808e-01 1.4320703e-03 1.2743317e-03 2.5596675e-05]]\n"
     ]
    },
    {
     "data": {
      "application/vnd.jupyter.widget-view+json": {
       "model_id": "5daed1dfd6e84f9c949a7bb4edcf7346",
       "version_major": 2,
       "version_minor": 0
      },
      "text/plain": [
       "Validation: |          | 0/? [00:00<?, ?it/s]"
      ]
     },
     "metadata": {},
     "output_type": "display_data"
    },
    {
     "name": "stdout",
     "output_type": "stream",
     "text": [
      "\n",
      "First batch verification:\n",
      "Input shape: torch.Size([32, 3, 224, 224])\n",
      "Label distribution: tensor([ 9, 14,  5,  4], device='cuda:0')\n",
      "Sample predictions: [[9.4542996e-04 9.9804521e-01 9.4635366e-04 6.2908352e-05]\n",
      " [5.6299067e-04 9.9919814e-01 2.1768907e-04 2.1178565e-05]\n",
      " [3.6780338e-04 3.6453050e-05 3.3098718e-04 9.9926478e-01]]\n"
     ]
    },
    {
     "data": {
      "application/vnd.jupyter.widget-view+json": {
       "model_id": "16395ff93e764c0e8654f3fc8562a8d2",
       "version_major": 2,
       "version_minor": 0
      },
      "text/plain": [
       "Validation: |          | 0/? [00:00<?, ?it/s]"
      ]
     },
     "metadata": {},
     "output_type": "display_data"
    },
    {
     "name": "stdout",
     "output_type": "stream",
     "text": [
      "\n",
      "First batch verification:\n",
      "Input shape: torch.Size([32, 3, 224, 224])\n",
      "Label distribution: tensor([ 8, 12,  7,  5], device='cuda:0')\n",
      "Sample predictions: [[1.8182310e-03 9.9675459e-01 1.3433006e-03 8.3885054e-05]\n",
      " [9.9964917e-01 1.7245227e-04 1.2753143e-04 5.0827672e-05]\n",
      " [3.3328927e-04 9.9935979e-01 2.7096228e-04 3.6031783e-05]]\n"
     ]
    },
    {
     "data": {
      "application/vnd.jupyter.widget-view+json": {
       "model_id": "cb7f2fdb2d1b4b7d97e49b8e3a4e1b72",
       "version_major": 2,
       "version_minor": 0
      },
      "text/plain": [
       "Validation: |          | 0/? [00:00<?, ?it/s]"
      ]
     },
     "metadata": {},
     "output_type": "display_data"
    },
    {
     "name": "stdout",
     "output_type": "stream",
     "text": [
      "\n",
      "First batch verification:\n",
      "Input shape: torch.Size([32, 3, 224, 224])\n",
      "Label distribution: tensor([10, 10,  4,  8], device='cuda:0')\n",
      "Sample predictions: [[9.9976867e-01 2.6064956e-05 1.4537864e-04 5.9896793e-05]\n",
      " [2.7774548e-04 2.5859596e-05 9.9967122e-01 2.5162075e-05]\n",
      " [6.3634099e-05 3.9743503e-05 1.4838781e-04 9.9974829e-01]]\n"
     ]
    },
    {
     "data": {
      "application/vnd.jupyter.widget-view+json": {
       "model_id": "4bad72c6f1cb4325bdecbf4ad7834724",
       "version_major": 2,
       "version_minor": 0
      },
      "text/plain": [
       "Validation: |          | 0/? [00:00<?, ?it/s]"
      ]
     },
     "metadata": {},
     "output_type": "display_data"
    },
    {
     "name": "stdout",
     "output_type": "stream",
     "text": [
      "\n",
      "First batch verification:\n",
      "Input shape: torch.Size([32, 3, 224, 224])\n",
      "Label distribution: tensor([ 9, 14,  4,  5], device='cuda:0')\n",
      "Sample predictions: [[9.9769717e-01 1.7740575e-04 6.3203659e-04 1.4934000e-03]\n",
      " [1.3953508e-04 9.9975878e-01 8.5129657e-05 1.6567728e-05]\n",
      " [2.4346225e-05 5.7779540e-05 9.9991322e-01 4.6921577e-06]]\n"
     ]
    },
    {
     "data": {
      "application/vnd.jupyter.widget-view+json": {
       "model_id": "4ca5cb5cb07749fa86d1c4b5b335ed33",
       "version_major": 2,
       "version_minor": 0
      },
      "text/plain": [
       "Validation: |          | 0/? [00:00<?, ?it/s]"
      ]
     },
     "metadata": {},
     "output_type": "display_data"
    },
    {
     "name": "stdout",
     "output_type": "stream",
     "text": [
      "\n",
      "First batch verification:\n",
      "Input shape: torch.Size([32, 3, 224, 224])\n",
      "Label distribution: tensor([ 8, 12,  3,  9], device='cuda:0')\n",
      "Sample predictions: [[9.9952137e-01 6.4118627e-05 3.9566154e-04 1.8805933e-05]\n",
      " [6.6202578e-05 7.5164011e-05 1.5545936e-03 9.9830401e-01]\n",
      " [3.3323176e-04 7.8303783e-05 1.3764942e-03 9.9821198e-01]]\n"
     ]
    },
    {
     "data": {
      "application/vnd.jupyter.widget-view+json": {
       "model_id": "5052652ec58443a291127941b5b51c04",
       "version_major": 2,
       "version_minor": 0
      },
      "text/plain": [
       "Validation: |          | 0/? [00:00<?, ?it/s]"
      ]
     },
     "metadata": {},
     "output_type": "display_data"
    },
    {
     "name": "stdout",
     "output_type": "stream",
     "text": [
      "\n",
      "First batch verification:\n",
      "Input shape: torch.Size([32, 3, 224, 224])\n",
      "Label distribution: tensor([ 8, 18,  4,  2], device='cuda:0')\n",
      "Sample predictions: [[5.7554960e-05 9.5902606e-06 9.9992502e-01 7.7968270e-06]\n",
      " [4.4402545e-03 9.8926443e-01 6.1586653e-03 1.3672863e-04]\n",
      " [9.9990797e-01 4.1011648e-05 3.7855560e-05 1.3057005e-05]]\n"
     ]
    },
    {
     "data": {
      "application/vnd.jupyter.widget-view+json": {
       "model_id": "325579763fa5401eba6378b5ddc9de2d",
       "version_major": 2,
       "version_minor": 0
      },
      "text/plain": [
       "Validation: |          | 0/? [00:00<?, ?it/s]"
      ]
     },
     "metadata": {},
     "output_type": "display_data"
    },
    {
     "name": "stdout",
     "output_type": "stream",
     "text": [
      "\n",
      "First batch verification:\n",
      "Input shape: torch.Size([32, 3, 224, 224])\n",
      "Label distribution: tensor([ 8, 14,  5,  5], device='cuda:0')\n",
      "Sample predictions: [[9.9987030e-01 5.2401519e-05 1.8849278e-05 5.8458121e-05]\n",
      " [2.2061935e-03 9.9728656e-01 4.3633854e-04 7.0952607e-05]\n",
      " [9.9963868e-01 3.4525965e-05 3.0384460e-04 2.2954377e-05]]\n"
     ]
    },
    {
     "data": {
      "application/vnd.jupyter.widget-view+json": {
       "model_id": "43d2232ee610411f9baa08f227c25055",
       "version_major": 2,
       "version_minor": 0
      },
      "text/plain": [
       "Validation: |          | 0/? [00:00<?, ?it/s]"
      ]
     },
     "metadata": {},
     "output_type": "display_data"
    },
    {
     "name": "stdout",
     "output_type": "stream",
     "text": [
      "\n",
      "First batch verification:\n",
      "Input shape: torch.Size([32, 3, 224, 224])\n",
      "Label distribution: tensor([ 7, 12,  5,  8], device='cuda:0')\n",
      "Sample predictions: [[4.6558576e-05 1.2193066e-05 9.9981004e-01 1.3121590e-04]\n",
      " [9.4955958e-06 3.4937559e-05 1.8485617e-04 9.9977070e-01]\n",
      " [4.5673901e-04 9.9903166e-01 3.7901988e-04 1.3252978e-04]]\n"
     ]
    },
    {
     "data": {
      "application/vnd.jupyter.widget-view+json": {
       "model_id": "5762050987314eed8e97c285cb029b84",
       "version_major": 2,
       "version_minor": 0
      },
      "text/plain": [
       "Validation: |          | 0/? [00:00<?, ?it/s]"
      ]
     },
     "metadata": {},
     "output_type": "display_data"
    },
    {
     "name": "stdout",
     "output_type": "stream",
     "text": [
      "\n",
      "First batch verification:\n",
      "Input shape: torch.Size([32, 3, 224, 224])\n",
      "Label distribution: tensor([12, 12,  1,  7], device='cuda:0')\n",
      "Sample predictions: [[9.8465061e-01 1.2443435e-02 2.8800690e-03 2.5872152e-05]\n",
      " [2.7846691e-04 9.9543971e-01 4.2503770e-03 3.1426720e-05]\n",
      " [1.1000106e-03 9.9616575e-01 2.4668379e-03 2.6747139e-04]]\n"
     ]
    },
    {
     "data": {
      "application/vnd.jupyter.widget-view+json": {
       "model_id": "08fbf2097f644bd78b80ca3bb8011bca",
       "version_major": 2,
       "version_minor": 0
      },
      "text/plain": [
       "Validation: |          | 0/? [00:00<?, ?it/s]"
      ]
     },
     "metadata": {},
     "output_type": "display_data"
    },
    {
     "name": "stdout",
     "output_type": "stream",
     "text": [
      "\n",
      "First batch verification:\n",
      "Input shape: torch.Size([32, 3, 224, 224])\n",
      "Label distribution: tensor([13, 10,  5,  4], device='cuda:0')\n",
      "Sample predictions: [[1.3004940e-04 9.9966955e-01 1.6796804e-04 3.2435146e-05]\n",
      " [9.9932051e-01 4.2585065e-04 8.7280554e-05 1.6627765e-04]\n",
      " [1.3724032e-05 9.4259874e-04 9.2694092e-05 9.9895096e-01]]\n"
     ]
    },
    {
     "data": {
      "application/vnd.jupyter.widget-view+json": {
       "model_id": "4c831a70e78642eaa5871f47de41a685",
       "version_major": 2,
       "version_minor": 0
      },
      "text/plain": [
       "Validation: |          | 0/? [00:00<?, ?it/s]"
      ]
     },
     "metadata": {},
     "output_type": "display_data"
    },
    {
     "name": "stdout",
     "output_type": "stream",
     "text": [
      "\n",
      "First batch verification:\n",
      "Input shape: torch.Size([32, 3, 224, 224])\n",
      "Label distribution: tensor([ 7, 17,  4,  4], device='cuda:0')\n",
      "Sample predictions: [[1.3293435e-03 9.9607831e-01 2.0974870e-03 4.9480278e-04]\n",
      " [2.4968227e-05 1.7809170e-05 2.0742952e-04 9.9974984e-01]\n",
      " [9.9961382e-01 2.4224000e-04 7.5262629e-05 6.8661371e-05]]\n"
     ]
    },
    {
     "data": {
      "application/vnd.jupyter.widget-view+json": {
       "model_id": "95bb26cbfb584f7fa1685809b92737b2",
       "version_major": 2,
       "version_minor": 0
      },
      "text/plain": [
       "Validation: |          | 0/? [00:00<?, ?it/s]"
      ]
     },
     "metadata": {},
     "output_type": "display_data"
    },
    {
     "name": "stdout",
     "output_type": "stream",
     "text": [
      "\n",
      "First batch verification:\n",
      "Input shape: torch.Size([32, 3, 224, 224])\n",
      "Label distribution: tensor([ 6, 14,  4,  8], device='cuda:0')\n",
      "Sample predictions: [[9.9945682e-01 3.8552872e-04 1.2358390e-04 3.4117518e-05]\n",
      " [4.1706543e-04 1.8768294e-05 9.3105329e-05 9.9947101e-01]\n",
      " [4.1494484e-04 9.9876863e-01 7.7144307e-04 4.4991157e-05]]\n"
     ]
    },
    {
     "data": {
      "application/vnd.jupyter.widget-view+json": {
       "model_id": "fa48528d65014132a34c35100bd40bea",
       "version_major": 2,
       "version_minor": 0
      },
      "text/plain": [
       "Validation: |          | 0/? [00:00<?, ?it/s]"
      ]
     },
     "metadata": {},
     "output_type": "display_data"
    },
    {
     "name": "stdout",
     "output_type": "stream",
     "text": [
      "\n",
      "First batch verification:\n",
      "Input shape: torch.Size([32, 3, 224, 224])\n",
      "Label distribution: tensor([ 5, 14,  8,  5], device='cuda:0')\n",
      "Sample predictions: [[3.4066932e-05 9.9992597e-01 1.0369555e-05 2.9540113e-05]\n",
      " [1.6505079e-03 9.9811471e-01 2.0871447e-04 2.6021835e-05]\n",
      " [1.7841777e-04 9.9947685e-01 3.0202058e-04 4.2793810e-05]]\n"
     ]
    },
    {
     "data": {
      "application/vnd.jupyter.widget-view+json": {
       "model_id": "3e72b9487dd34d2a8d8fdfa69c22cf57",
       "version_major": 2,
       "version_minor": 0
      },
      "text/plain": [
       "Validation: |          | 0/? [00:00<?, ?it/s]"
      ]
     },
     "metadata": {},
     "output_type": "display_data"
    },
    {
     "name": "stdout",
     "output_type": "stream",
     "text": [
      "\n",
      "First batch verification:\n",
      "Input shape: torch.Size([32, 3, 224, 224])\n",
      "Label distribution: tensor([ 7, 12,  3, 10], device='cuda:0')\n",
      "Sample predictions: [[1.0228475e-04 2.7691347e-05 1.1993384e-04 9.9975008e-01]\n",
      " [9.9916339e-01 6.6561322e-04 1.3836677e-04 3.2609234e-05]\n",
      " [1.4138758e-03 9.9815148e-01 3.8842412e-04 4.6209785e-05]]\n"
     ]
    },
    {
     "data": {
      "application/vnd.jupyter.widget-view+json": {
       "model_id": "9be03c81d87b40e2a2fce859a7669ed3",
       "version_major": 2,
       "version_minor": 0
      },
      "text/plain": [
       "Validation: |          | 0/? [00:00<?, ?it/s]"
      ]
     },
     "metadata": {},
     "output_type": "display_data"
    },
    {
     "name": "stdout",
     "output_type": "stream",
     "text": [
      "\n",
      "First batch verification:\n",
      "Input shape: torch.Size([32, 3, 224, 224])\n",
      "Label distribution: tensor([10, 11,  7,  4], device='cuda:0')\n",
      "Sample predictions: [[9.9958724e-01 3.1423976e-04 2.3497512e-05 7.5113778e-05]\n",
      " [9.9925178e-01 1.6659127e-04 2.1245016e-04 3.6923811e-04]\n",
      " [9.9935001e-01 1.2650109e-04 3.8099644e-04 1.4250708e-04]]\n"
     ]
    },
    {
     "data": {
      "application/vnd.jupyter.widget-view+json": {
       "model_id": "da6f24be53d445eabe6a57d1f1ae1761",
       "version_major": 2,
       "version_minor": 0
      },
      "text/plain": [
       "Validation: |          | 0/? [00:00<?, ?it/s]"
      ]
     },
     "metadata": {},
     "output_type": "display_data"
    }
   ],
   "source": [
    "#%% -------- 5. Training Execution --------\n",
    "train_loader = DataLoader(train_dataset, BATCH_SIZE, sampler=sampler, \n",
    "                         num_workers=NUM_WORKERS, persistent_workers=True)\n",
    "val_loader = DataLoader(val_dataset, BATCH_SIZE, num_workers=NUM_WORKERS, \n",
    "                       persistent_workers=True)\n",
    "\n",
    "trainer = pl.Trainer(\n",
    "    accelerator='gpu',\n",
    "    devices=1,\n",
    "    max_epochs=EPOCHS,\n",
    "    precision=PRECISION,\n",
    "    callbacks=[\n",
    "        pl.callbacks.ModelCheckpoint(monitor='val_f1', mode='max'),\n",
    "        pl.callbacks.EarlyStopping(monitor='val_f1', patience=10, mode='max')\n",
    "    ],\n",
    "    deterministic=True\n",
    ")\n",
    "\n",
    "trainer.fit(LitModel(), train_loader, val_loader)"
   ]
  },
  {
   "cell_type": "code",
   "execution_count": 23,
   "metadata": {},
   "outputs": [
    {
     "name": "stderr",
     "output_type": "stream",
     "text": [
      "C:\\Users\\DELL 5540\\AppData\\Roaming\\Python\\Python311\\site-packages\\lightning\\fabric\\utilities\\cloud_io.py:55: You are using `torch.load` with `weights_only=False` (the current default value), which uses the default pickle module implicitly. It is possible to construct malicious pickle data which will execute arbitrary code during unpickling (See https://github.com/pytorch/pytorch/blob/main/SECURITY.md#untrusted-models for more details). In a future release, the default value for `weights_only` will be flipped to `True`. This limits the functions that could be executed during unpickling. Arbitrary objects will no longer be allowed to be loaded via this mode unless they are explicitly allowlisted by the user via `torch.serialization.add_safe_globals`. We recommend you start setting `weights_only=True` for any use case where you don't have full control of the loaded file. Please open an issue on GitHub for any issues related to this experimental feature.\n"
     ]
    },
    {
     "name": "stdout",
     "output_type": "stream",
     "text": [
      "\n",
      "Classification Report:\n",
      "                    precision    recall  f1-score   support\n",
      "\n",
      "            Type 0       0.92      0.97      0.94        35\n",
      "Type 1 Neurapraxia       0.98      0.98      0.98        86\n",
      "Type 2 Axonotemsis       1.00      0.85      0.92        13\n",
      "Type 3 Nurotemesis       1.00      1.00      1.00        15\n",
      "\n",
      "          accuracy                           0.97       149\n",
      "         macro avg       0.97      0.95      0.96       149\n",
      "      weighted avg       0.97      0.97      0.97       149\n",
      "\n"
     ]
    },
    {
     "data": {
      "image/png": "[encoded data removed]",
      "text/plain": [
       "<Figure size 1000x800 with 2 Axes>"
      ]
     },
     "metadata": {},
     "output_type": "display_data"
    }
   ],
   "source": [
    "#%% -------- 6. Final Evaluation --------\n",
    "best_model = LitModel.load_from_checkpoint(trainer.checkpoint_callback.best_model_path)\n",
    "test_loader = DataLoader(test_dataset, BATCH_SIZE, num_workers=NUM_WORKERS)\n",
    "\n",
    "def evaluate():\n",
    "    best_model.eval()\n",
    "    all_preds, all_targets = [], []\n",
    "    \n",
    "    with torch.no_grad():\n",
    "        for x, y in test_loader:\n",
    "            x, y = x.to(best_model.device), y.to(best_model.device)\n",
    "            logits = best_model(x)\n",
    "            all_preds.extend(torch.argmax(logits, 1).cpu().numpy())\n",
    "            all_targets.extend(y.cpu().numpy())\n",
    "    \n",
    "    print(\"\\nClassification Report:\")\n",
    "    print(classification_report(all_targets, all_preds, target_names=CLASS_NAMES))\n",
    "    \n",
    "    plt.figure(figsize=(10,8))\n",
    "    sns.heatmap(confusion_matrix(all_targets, all_preds), \n",
    "                annot=True, fmt='d', xticklabels=CLASS_NAMES, yticklabels=CLASS_NAMES)\n",
    "    plt.title('Confusion Matrix')\n",
    "    plt.show()\n",
    "\n",
    "evaluate()"
   ]
  }
 ],
 "metadata": {
  "kernelspec": {
   "display_name": "Python 3",
   "language": "python",
   "name": "python3"
  },
  "language_info": {
   "codemirror_mode": {
    "name": "ipython",
    "version": 3
   },
   "file_extension": ".py",
   "mimetype": "text/x-python",
   "name": "python",
   "nbconvert_exporter": "python",
   "pygments_lexer": "ipython3",
   "version": "3.11.4"
  }
 },
 "nbformat": 4,
 "nbformat_minor": 2
}
