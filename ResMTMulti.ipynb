{
 "cells": [
  {
   "cell_type": "code",
   "execution_count": 1,
   "metadata": {},
   "outputs": [],
   "source": [
    "#%% -------- 1. Critical Configuration Fixes --------\n",
    "import lightning.pytorch as pl\n",
    "import torch\n",
    "import torch.nn as nn\n",
    "import torch.optim as optim\n",
    "from torchvision import transforms, models\n",
    "from torch.utils.data import DataLoader, WeightedRandomSampler\n",
    "from torchvision.datasets import ImageFolder\n",
    "import numpy as np\n",
    "import matplotlib.pyplot as plt\n",
    "import seaborn as sns\n",
    "from sklearn.metrics import confusion_matrix, classification_report\n",
    "import os\n",
    "import splitfolders\n",
    "from torch.optim.lr_scheduler import OneCycleLR\n",
    "import torchmetrics\n",
    "\n",
    "# Hardware config\n",
    "NUM_CLASSES = 4\n",
    "IMG_SIZE = 224\n",
    "BATCH_SIZE = 32\n",
    "NUM_WORKERS = 4\n",
    "PRECISION = '16-mixed'\n",
    "EPOCHS = 100\n",
    "DATA_ROOT = \"2nd Classification\"  # Updated path\n",
    "SPLIT_ROOT = \"Split_Dataset\"\n",
    "SEED = 42\n",
    "CLASS_NAMES = ['Type 0', 'Type 1 Neurapraxia', 'Type 2 Axonotemsis', 'Type 3 Nurotemesis']  # Match folder names exactly\n",
    "\n",
    "# Verify folder structure\n",
    "assert os.path.exists(os.path.join(DATA_ROOT, 'Type 0')), \"Type 0 folder missing\"\n",
    "assert os.path.exists(os.path.join(DATA_ROOT, 'Type 1 Neurapraxia')), \"Type 1 folder missing\""
   ]
  },
  {
   "cell_type": "code",
   "execution_count": 2,
   "metadata": {},
   "outputs": [
    {
     "name": "stdout",
     "output_type": "stream",
     "text": [
      "Class distribution: {'Type 0': 158, 'Type 1 Neurapraxia': 398, 'Type 2 Axonotemsis': 57, 'Type 3 Nurotemesis': 64}\n"
     ]
    }
   ],
   "source": [
    "#%% -------- 2. Data Preparation & Sanity Checks --------\n",
    "# Use existing splits if already created\n",
    "if not os.path.exists(SPLIT_ROOT):\n",
    "    import splitfolders\n",
    "    splitfolders.ratio(\n",
    "        DATA_ROOT,\n",
    "        output=SPLIT_ROOT,\n",
    "        seed=SEED,\n",
    "        ratio=(0.7, 0.15, 0.15),\n",
    "        group_prefix=None,\n",
    "        move=False\n",
    "    )\n",
    "\n",
    "# Simplified transforms for medical images\n",
    "train_transform = transforms.Compose([\n",
    "    transforms.Grayscale(num_output_channels=3),\n",
    "    transforms.Resize((IMG_SIZE, IMG_SIZE)),\n",
    "    transforms.RandomHorizontalFlip(p=0.2),\n",
    "    transforms.ToTensor(),\n",
    "    transforms.Normalize([0.485, 0.456, 0.406], [0.229, 0.224, 0.225])  # ImageNet stats\n",
    "])\n",
    "\n",
    "val_transform = transforms.Compose([\n",
    "    transforms.Grayscale(num_output_channels=3),\n",
    "    transforms.Resize((IMG_SIZE, IMG_SIZE)),\n",
    "    transforms.ToTensor(),\n",
    "    transforms.Normalize([0.485, 0.456, 0.406], [0.229, 0.224, 0.225])\n",
    "])\n",
    "\n",
    "# Load datasets with verification\n",
    "train_dataset = ImageFolder(os.path.join(SPLIT_ROOT, 'train'), train_transform)\n",
    "val_dataset = ImageFolder(os.path.join(SPLIT_ROOT, 'val'), val_transform)\n",
    "test_dataset = ImageFolder(os.path.join(SPLIT_ROOT, 'test'), val_transform)\n",
    "\n",
    "# Final class validation\n",
    "assert train_dataset.classes == CLASS_NAMES, \\\n",
    "    f\"Class mismatch: {train_dataset.classes} vs {CLASS_NAMES}\"\n",
    "\n",
    "# Enhanced class balancing\n",
    "class_counts = np.bincount(train_dataset.targets)\n",
    "print(\"Class distribution:\", {name: count for name, count in zip(CLASS_NAMES, class_counts)})\n",
    "class_weights = torch.tensor(1 / (np.sqrt(class_counts) + 1e-6), dtype=torch.float32)\n",
    "class_weights = (class_weights / class_weights.sum()) * NUM_CLASSES\n",
    "sampler = WeightedRandomSampler(class_weights[train_dataset.targets], len(train_dataset), replacement=True)"
   ]
  },
  {
   "cell_type": "code",
   "execution_count": 7,
   "metadata": {},
   "outputs": [],
   "source": [
    "#%% -------- 3. ResMT Model Architecture --------\n",
    "class MedicalResMT(pl.LightningModule):\n",
    "    def __init__(self, embed_dim=512, num_heads=8, num_layers=3, dropout=0.1):\n",
    "        super().__init__()\n",
    "        # ResNet-50 Backbone\n",
    "        resnet = models.resnet50(weights=models.ResNet50_Weights.DEFAULT)\n",
    "        self.cnn_backbone = nn.Sequential(\n",
    "            resnet.conv1,\n",
    "            resnet.bn1,\n",
    "            resnet.relu,\n",
    "            resnet.maxpool,\n",
    "            resnet.layer1,\n",
    "            resnet.layer2,\n",
    "            resnet.layer3,\n",
    "            resnet.layer4\n",
    "        )\n",
    "        \n",
    "        # Feature adaptation\n",
    "        self.feature_adapt = nn.Sequential(\n",
    "            nn.Conv2d(2048, embed_dim, 1),  # Reduce channels to embed_dim\n",
    "            nn.BatchNorm2d(embed_dim),\n",
    "            nn.GELU()\n",
    "        )\n",
    "        \n",
    "        # Transformer components\n",
    "        self.positional_encoding = nn.Parameter(torch.randn(1, 49, embed_dim))\n",
    "        encoder_layer = TransformerEncoderLayer(\n",
    "            d_model=embed_dim,\n",
    "            nhead=num_heads,\n",
    "            dim_feedforward=embed_dim*4,\n",
    "            dropout=dropout,\n",
    "            batch_first=False\n",
    "        )\n",
    "        self.transformer_encoder = TransformerEncoder(encoder_layer, num_layers)\n",
    "        \n",
    "        # Classifier\n",
    "        self.classifier = nn.Sequential(\n",
    "            nn.LayerNorm(embed_dim),\n",
    "            nn.Dropout(0.3),\n",
    "            nn.Linear(embed_dim, NUM_CLASSES)\n",
    "        )\n",
    "\n",
    "        # Freezing strategy\n",
    "        for param in self.cnn_backbone.parameters():\n",
    "            param.requires_grad = False\n",
    "        for param in self.cnn_backbone[-1].parameters():  # Unfreeze last ResNet layer\n",
    "            param.requires_grad = True\n",
    "\n",
    "    def forward(self, x):\n",
    "        # CNN Feature extraction\n",
    "        x = self.cnn_backbone(x)  # Output: (BS, 2048, 7, 7)\n",
    "        \n",
    "        # Feature adaptation\n",
    "        x = self.feature_adapt(x)  # (BS, embed_dim, 7, 7)\n",
    "        \n",
    "        # Prepare for transformer\n",
    "        x = x.flatten(2).permute(2, 0, 1)  # (49, BS, embed_dim)\n",
    "        x = x + self.positional_encoding\n",
    "        \n",
    "        # Transformer processing\n",
    "        x = self.transformer_encoder(x)  # (49, BS, embed_dim)\n",
    "        \n",
    "        # Aggregate and classify\n",
    "        x = x.mean(dim=0)  # (BS, embed_dim)\n",
    "        return self.classifier(x)"
   ]
  },
  {
   "cell_type": "code",
   "execution_count": 8,
   "metadata": {},
   "outputs": [],
   "source": [
    "#%% -------- 4. Optimized Training Setup --------\n",
    "class LitModel(pl.LightningModule):\n",
    "    def __init__(self):\n",
    "        super().__init__()\n",
    "        self.model = MedicalResNet()\n",
    "        self.criterion = nn.CrossEntropyLoss(weight=class_weights.to('cuda'))\n",
    "        \n",
    "        # Metrics\n",
    "        self.train_acc = torchmetrics.Accuracy(task='multiclass', num_classes=NUM_CLASSES)\n",
    "        self.val_acc = torchmetrics.Accuracy(task='multiclass', num_classes=NUM_CLASSES)\n",
    "        self.train_f1 = torchmetrics.F1Score(task='multiclass', num_classes=NUM_CLASSES)\n",
    "        self.val_f1 = torchmetrics.F1Score(task='multiclass', num_classes=NUM_CLASSES)\n",
    "\n",
    "    def forward(self, x):\n",
    "        return self.model(x)\n",
    "\n",
    "    def training_step(self, batch, batch_idx):\n",
    "        x, y = batch\n",
    "        logits = self(x)\n",
    "        loss = self.criterion(logits, y)\n",
    "        \n",
    "        # First batch verification\n",
    "        if batch_idx == 0:\n",
    "            print(\"\\nFirst batch verification:\")\n",
    "            print(\"Input shape:\", x.shape)\n",
    "            print(\"Label distribution:\", torch.bincount(y, minlength=NUM_CLASSES))\n",
    "            print(\"Sample predictions:\", torch.softmax(logits[:3], dim=1).detach().cpu().numpy())\n",
    "        \n",
    "        self.log_metrics(logits, y, 'train')\n",
    "        return loss\n",
    "\n",
    "    def validation_step(self, batch, batch_idx):\n",
    "        x, y = batch\n",
    "        logits = self(x)\n",
    "        self.log_metrics(logits, y, 'val')\n",
    "        return self.criterion(logits, y)\n",
    "\n",
    "    def log_metrics(self, logits, y, prefix):\n",
    "        self._update_metrics(getattr(self, f'{prefix}_acc'), \n",
    "                            getattr(self, f'{prefix}_f1'), \n",
    "                            logits, y)\n",
    "        self.log_dict({\n",
    "            f'{prefix}_loss': self.criterion(logits, y),\n",
    "            f'{prefix}_acc': getattr(self, f'{prefix}_acc'),\n",
    "            f'{prefix}_f1': getattr(self, f'{prefix}_f1'),\n",
    "        }, prog_bar=True)\n",
    "\n",
    "    def _update_metrics(self, acc_metric, f1_metric, logits, y):\n",
    "        acc_metric(logits, y)\n",
    "        f1_metric(logits, y)\n",
    "\n",
    "    def configure_optimizers(self):\n",
    "        optimizer = optim.AdamW(filter(lambda p: p.requires_grad, self.parameters()), \n",
    "                               lr=2e-4, weight_decay=0.001)\n",
    "        scheduler = torch.optim.lr_scheduler.ReduceLROnPlateau(optimizer, patience=3)\n",
    "        return {\n",
    "            'optimizer': optimizer,\n",
    "            'lr_scheduler': {\n",
    "                'scheduler': scheduler,\n",
    "                'monitor': 'val_loss',\n",
    "                'interval': 'epoch'\n",
    "            }\n",
    "        }"
   ]
  },
  {
   "cell_type": "code",
   "execution_count": 9,
   "metadata": {},
   "outputs": [
    {
     "name": "stderr",
     "output_type": "stream",
     "text": [
      "Using 16bit Automatic Mixed Precision (AMP)\n",
      "C:\\Users\\DELL 5540\\AppData\\Roaming\\Python\\Python311\\site-packages\\lightning\\pytorch\\plugins\\precision\\amp.py:54: `torch.cuda.amp.GradScaler(args...)` is deprecated. Please use `torch.amp.GradScaler('cuda', args...)` instead.\n",
      "GPU available: True (cuda), used: True\n",
      "TPU available: False, using: 0 TPU cores\n",
      "IPU available: False, using: 0 IPUs\n",
      "HPU available: False, using: 0 HPUs\n",
      "LOCAL_RANK: 0 - CUDA_VISIBLE_DEVICES: [0]\n",
      "\n",
      "  | Name      | Type               | Params\n",
      "-------------------------------------------------\n",
      "0 | model     | MedicalResNet      | 23.5 M\n",
      "1 | criterion | CrossEntropyLoss   | 0     \n",
      "2 | train_acc | MulticlassAccuracy | 0     \n",
      "3 | val_acc   | MulticlassAccuracy | 0     \n",
      "4 | train_f1  | MulticlassF1Score  | 0     \n",
      "5 | val_f1    | MulticlassF1Score  | 0     \n",
      "-------------------------------------------------\n",
      "22.1 M    Trainable params\n",
      "1.4 M     Non-trainable params\n",
      "23.5 M    Total params\n",
      "94.065    Total estimated model params size (MB)\n"
     ]
    },
    {
     "data": {
      "application/vnd.jupyter.widget-view+json": {
       "model_id": "73d1760546624d67aa4f835f6b91c04a",
       "version_major": 2,
       "version_minor": 0
      },
      "text/plain": [
       "Sanity Checking: |          | 0/? [00:00<?, ?it/s]"
      ]
     },
     "metadata": {},
     "output_type": "display_data"
    },
    {
     "name": "stderr",
     "output_type": "stream",
     "text": [
      "C:\\Users\\DELL 5540\\AppData\\Roaming\\Python\\Python311\\site-packages\\lightning\\pytorch\\loops\\fit_loop.py:293: The number of training batches (22) is smaller than the logging interval Trainer(log_every_n_steps=50). Set a lower value for log_every_n_steps if you want to see logs for the training epoch.\n"
     ]
    },
    {
     "data": {
      "application/vnd.jupyter.widget-view+json": {
       "model_id": "10d9c2b7fe8d4b83b2be4aeade6ad236",
       "version_major": 2,
       "version_minor": 0
      },
      "text/plain": [
       "Training: |          | 0/? [00:00<?, ?it/s]"
      ]
     },
     "metadata": {},
     "output_type": "display_data"
    },
    {
     "name": "stdout",
     "output_type": "stream",
     "text": [
      "\n",
      "First batch verification:\n",
      "Input shape: torch.Size([32, 3, 224, 224])\n",
      "Label distribution: tensor([14, 12,  3,  3], device='cuda:0')\n",
      "Sample predictions: [[0.27930707 0.24831854 0.20121416 0.2711602 ]\n",
      " [0.26352534 0.23195073 0.257576   0.24694794]\n",
      " [0.2538201  0.24719994 0.23126455 0.26771545]]\n"
     ]
    },
    {
     "data": {
      "application/vnd.jupyter.widget-view+json": {
       "model_id": "7e9dc6a52c4b43d1bb721685bfac133c",
       "version_major": 2,
       "version_minor": 0
      },
      "text/plain": [
       "Validation: |          | 0/? [00:00<?, ?it/s]"
      ]
     },
     "metadata": {},
     "output_type": "display_data"
    },
    {
     "name": "stdout",
     "output_type": "stream",
     "text": [
      "\n",
      "First batch verification:\n",
      "Input shape: torch.Size([32, 3, 224, 224])\n",
      "Label distribution: tensor([ 9, 14,  5,  4], device='cuda:0')\n",
      "Sample predictions: [[0.09112449 0.72910404 0.10140883 0.07836267]\n",
      " [0.6451512  0.21567693 0.09946997 0.03970189]\n",
      " [0.20564398 0.5313366  0.11931217 0.14370729]]\n"
     ]
    },
    {
     "data": {
      "application/vnd.jupyter.widget-view+json": {
       "model_id": "62aaaf96548a4cc19c979f256856779a",
       "version_major": 2,
       "version_minor": 0
      },
      "text/plain": [
       "Validation: |          | 0/? [00:00<?, ?it/s]"
      ]
     },
     "metadata": {},
     "output_type": "display_data"
    },
    {
     "name": "stdout",
     "output_type": "stream",
     "text": [
      "\n",
      "First batch verification:\n",
      "Input shape: torch.Size([32, 3, 224, 224])\n",
      "Label distribution: tensor([13, 12,  3,  4], device='cuda:0')\n",
      "Sample predictions: [[7.2647321e-01 1.7162821e-01 4.4969078e-02 5.6929570e-02]\n",
      " [9.9256563e-01 4.7983010e-03 1.8753753e-03 7.6068571e-04]\n",
      " [6.8940705e-01 1.8503118e-01 6.8360612e-02 5.7201155e-02]]\n"
     ]
    },
    {
     "data": {
      "application/vnd.jupyter.widget-view+json": {
       "model_id": "2b1282e5179c4c4b94e035bdebfec69e",
       "version_major": 2,
       "version_minor": 0
      },
      "text/plain": [
       "Validation: |          | 0/? [00:00<?, ?it/s]"
      ]
     },
     "metadata": {},
     "output_type": "display_data"
    },
    {
     "name": "stdout",
     "output_type": "stream",
     "text": [
      "\n",
      "First batch verification:\n",
      "Input shape: torch.Size([32, 3, 224, 224])\n",
      "Label distribution: tensor([11,  8,  6,  7], device='cuda:0')\n",
      "Sample predictions: [[5.9067923e-01 3.9309311e-01 7.5600268e-03 8.6676134e-03]\n",
      " [2.6010480e-03 1.4748137e-03 1.4604813e-03 9.9446362e-01]\n",
      " [8.4760593e-04 1.5596947e-02 9.8176116e-01 1.7943818e-03]]\n"
     ]
    },
    {
     "data": {
      "application/vnd.jupyter.widget-view+json": {
       "model_id": "3b0b784c2c534dc5a0823b11397d3e71",
       "version_major": 2,
       "version_minor": 0
      },
      "text/plain": [
       "Validation: |          | 0/? [00:00<?, ?it/s]"
      ]
     },
     "metadata": {},
     "output_type": "display_data"
    },
    {
     "name": "stdout",
     "output_type": "stream",
     "text": [
      "\n",
      "First batch verification:\n",
      "Input shape: torch.Size([32, 3, 224, 224])\n",
      "Label distribution: tensor([10, 12,  5,  5], device='cuda:0')\n",
      "Sample predictions: [[9.9980992e-01 2.9710254e-05 1.1201589e-04 4.8318791e-05]\n",
      " [1.4864924e-02 8.3003289e-01 1.4193258e-01 1.3169593e-02]\n",
      " [4.2375751e-02 9.3707913e-01 1.2301977e-02 8.2430411e-03]]\n"
     ]
    },
    {
     "data": {
      "application/vnd.jupyter.widget-view+json": {
       "model_id": "ed32b28f8dcb4b2d879af6366ad692cb",
       "version_major": 2,
       "version_minor": 0
      },
      "text/plain": [
       "Validation: |          | 0/? [00:00<?, ?it/s]"
      ]
     },
     "metadata": {},
     "output_type": "display_data"
    },
    {
     "name": "stdout",
     "output_type": "stream",
     "text": [
      "\n",
      "First batch verification:\n",
      "Input shape: torch.Size([32, 3, 224, 224])\n",
      "Label distribution: tensor([ 4, 16,  7,  5], device='cuda:0')\n",
      "Sample predictions: [[9.9894005e-01 5.7450711e-04 2.8495767e-04 2.0049277e-04]\n",
      " [4.7440294e-02 9.2490113e-01 5.5104150e-03 2.2148134e-02]\n",
      " [9.9994349e-01 5.6049898e-06 4.8412494e-06 4.5977373e-05]]\n"
     ]
    },
    {
     "data": {
      "application/vnd.jupyter.widget-view+json": {
       "model_id": "fa6a34c0a03947318ff7a20a59d905e9",
       "version_major": 2,
       "version_minor": 0
      },
      "text/plain": [
       "Validation: |          | 0/? [00:00<?, ?it/s]"
      ]
     },
     "metadata": {},
     "output_type": "display_data"
    },
    {
     "name": "stdout",
     "output_type": "stream",
     "text": [
      "\n",
      "First batch verification:\n",
      "Input shape: torch.Size([32, 3, 224, 224])\n",
      "Label distribution: tensor([11,  8,  6,  7], device='cuda:0')\n",
      "Sample predictions: [[5.0474936e-04 1.4183722e-03 9.9450409e-01 3.5727585e-03]\n",
      " [5.6478549e-03 2.7986227e-03 9.9593261e-04 9.9055767e-01]\n",
      " [3.7582792e-04 1.5621007e-04 9.9936324e-01 1.0466985e-04]]\n"
     ]
    },
    {
     "data": {
      "application/vnd.jupyter.widget-view+json": {
       "model_id": "1cf2839d1f494b71ad89db266d351eae",
       "version_major": 2,
       "version_minor": 0
      },
      "text/plain": [
       "Validation: |          | 0/? [00:00<?, ?it/s]"
      ]
     },
     "metadata": {},
     "output_type": "display_data"
    },
    {
     "name": "stdout",
     "output_type": "stream",
     "text": [
      "\n",
      "First batch verification:\n",
      "Input shape: torch.Size([32, 3, 224, 224])\n",
      "Label distribution: tensor([ 8, 11,  8,  5], device='cuda:0')\n",
      "Sample predictions: [[9.9964142e-01 5.9772312e-05 1.0844528e-04 1.9032738e-04]\n",
      " [4.6217130e-03 5.3620815e-02 9.4121510e-01 5.4236688e-04]\n",
      " [2.6275162e-04 4.0616363e-04 1.4427903e-03 9.9788839e-01]]\n"
     ]
    },
    {
     "data": {
      "application/vnd.jupyter.widget-view+json": {
       "model_id": "92bced8396d64532a75078d7e2a35af1",
       "version_major": 2,
       "version_minor": 0
      },
      "text/plain": [
       "Validation: |          | 0/? [00:00<?, ?it/s]"
      ]
     },
     "metadata": {},
     "output_type": "display_data"
    },
    {
     "name": "stdout",
     "output_type": "stream",
     "text": [
      "\n",
      "First batch verification:\n",
      "Input shape: torch.Size([32, 3, 224, 224])\n",
      "Label distribution: tensor([ 8, 10,  7,  7], device='cuda:0')\n",
      "Sample predictions: [[5.5943527e-03 1.1087737e-02 9.8021632e-01 3.1015868e-03]\n",
      " [6.6566703e-05 9.9988139e-01 8.5962802e-06 4.3400465e-05]\n",
      " [9.9785334e-01 9.3136376e-05 1.3686289e-03 6.8483775e-04]]\n"
     ]
    },
    {
     "data": {
      "application/vnd.jupyter.widget-view+json": {
       "model_id": "04653283c3f4455683cfe0316456d732",
       "version_major": 2,
       "version_minor": 0
      },
      "text/plain": [
       "Validation: |          | 0/? [00:00<?, ?it/s]"
      ]
     },
     "metadata": {},
     "output_type": "display_data"
    },
    {
     "name": "stdout",
     "output_type": "stream",
     "text": [
      "\n",
      "First batch verification:\n",
      "Input shape: torch.Size([32, 3, 224, 224])\n",
      "Label distribution: tensor([ 8, 13,  6,  5], device='cuda:0')\n",
      "Sample predictions: [[2.8627114e-03 3.7373276e-03 9.9073678e-01 2.6631339e-03]\n",
      " [2.3886703e-03 9.9619198e-01 4.2162539e-04 9.9769270e-04]\n",
      " [4.8694643e-04 9.8078127e-04 9.9764627e-01 8.8606199e-04]]\n"
     ]
    },
    {
     "data": {
      "application/vnd.jupyter.widget-view+json": {
       "model_id": "47be09c0b6de4224909101df348fe229",
       "version_major": 2,
       "version_minor": 0
      },
      "text/plain": [
       "Validation: |          | 0/? [00:00<?, ?it/s]"
      ]
     },
     "metadata": {},
     "output_type": "display_data"
    },
    {
     "name": "stdout",
     "output_type": "stream",
     "text": [
      "\n",
      "First batch verification:\n",
      "Input shape: torch.Size([32, 3, 224, 224])\n",
      "Label distribution: tensor([ 7, 13,  6,  6], device='cuda:0')\n",
      "Sample predictions: [[9.9999619e-01 7.5859282e-07 2.6117957e-06 3.9741488e-07]\n",
      " [1.1895780e-03 2.0136838e-03 9.9631882e-01 4.7782494e-04]\n",
      " [6.1082633e-06 1.5779506e-06 9.9999130e-01 1.0188014e-06]]\n"
     ]
    },
    {
     "data": {
      "application/vnd.jupyter.widget-view+json": {
       "model_id": "33b049d2e0db41be92e433fe6763026d",
       "version_major": 2,
       "version_minor": 0
      },
      "text/plain": [
       "Validation: |          | 0/? [00:00<?, ?it/s]"
      ]
     },
     "metadata": {},
     "output_type": "display_data"
    },
    {
     "name": "stdout",
     "output_type": "stream",
     "text": [
      "\n",
      "First batch verification:\n",
      "Input shape: torch.Size([32, 3, 224, 224])\n",
      "Label distribution: tensor([ 8, 13,  3,  8], device='cuda:0')\n",
      "Sample predictions: [[9.9935180e-01 2.1102393e-04 3.6819480e-04 6.8912042e-05]\n",
      " [8.1685558e-04 9.9835157e-01 6.3430675e-04 1.9726813e-04]\n",
      " [1.9726199e-03 3.5165751e-03 4.1072797e-03 9.9040353e-01]]\n"
     ]
    },
    {
     "data": {
      "application/vnd.jupyter.widget-view+json": {
       "model_id": "7ad326c21acd4be88495202eca138385",
       "version_major": 2,
       "version_minor": 0
      },
      "text/plain": [
       "Validation: |          | 0/? [00:00<?, ?it/s]"
      ]
     },
     "metadata": {},
     "output_type": "display_data"
    },
    {
     "name": "stdout",
     "output_type": "stream",
     "text": [
      "\n",
      "First batch verification:\n",
      "Input shape: torch.Size([32, 3, 224, 224])\n",
      "Label distribution: tensor([ 4, 18,  8,  2], device='cuda:0')\n",
      "Sample predictions: [[9.9999917e-01 9.2207934e-08 5.3582727e-07 2.6681252e-07]\n",
      " [8.9645130e-04 9.9855942e-01 1.2640102e-04 4.1770359e-04]\n",
      " [9.9992418e-01 2.1991943e-06 1.2145103e-06 7.2437193e-05]]\n"
     ]
    },
    {
     "data": {
      "application/vnd.jupyter.widget-view+json": {
       "model_id": "bfda4c3143794850b23c41a8656ceb36",
       "version_major": 2,
       "version_minor": 0
      },
      "text/plain": [
       "Validation: |          | 0/? [00:00<?, ?it/s]"
      ]
     },
     "metadata": {},
     "output_type": "display_data"
    },
    {
     "name": "stdout",
     "output_type": "stream",
     "text": [
      "\n",
      "First batch verification:\n",
      "Input shape: torch.Size([32, 3, 224, 224])\n",
      "Label distribution: tensor([ 7,  9,  4, 12], device='cuda:0')\n",
      "Sample predictions: [[1.6193871e-03 9.9812227e-01 2.1117636e-04 4.7119818e-05]\n",
      " [9.9971145e-01 2.6041912e-04 2.5459703e-05 2.6008727e-06]\n",
      " [1.4890754e-03 1.4033799e-01 2.6858549e-03 8.5548705e-01]]\n"
     ]
    },
    {
     "data": {
      "application/vnd.jupyter.widget-view+json": {
       "model_id": "84041e4f30824b999e9baa352285f5b7",
       "version_major": 2,
       "version_minor": 0
      },
      "text/plain": [
       "Validation: |          | 0/? [00:00<?, ?it/s]"
      ]
     },
     "metadata": {},
     "output_type": "display_data"
    },
    {
     "name": "stdout",
     "output_type": "stream",
     "text": [
      "\n",
      "First batch verification:\n",
      "Input shape: torch.Size([32, 3, 224, 224])\n",
      "Label distribution: tensor([11, 12,  2,  7], device='cuda:0')\n",
      "Sample predictions: [[1.4926576e-02 1.0984692e-02 4.4036778e-03 9.6968508e-01]\n",
      " [1.7123080e-04 9.9937707e-01 2.4913938e-04 2.0254888e-04]\n",
      " [1.0449496e-04 2.1863861e-04 3.2816642e-05 9.9964404e-01]]\n"
     ]
    },
    {
     "data": {
      "application/vnd.jupyter.widget-view+json": {
       "model_id": "e266c5788b654841bc7d63524f3dbf23",
       "version_major": 2,
       "version_minor": 0
      },
      "text/plain": [
       "Validation: |          | 0/? [00:00<?, ?it/s]"
      ]
     },
     "metadata": {},
     "output_type": "display_data"
    },
    {
     "name": "stdout",
     "output_type": "stream",
     "text": [
      "\n",
      "First batch verification:\n",
      "Input shape: torch.Size([32, 3, 224, 224])\n",
      "Label distribution: tensor([11,  9,  5,  7], device='cuda:0')\n",
      "Sample predictions: [[9.0203364e-04 9.9793243e-01 4.5401414e-04 7.1147981e-04]\n",
      " [4.9796281e-04 9.9853158e-01 6.8063446e-04 2.8989240e-04]\n",
      " [1.7917635e-05 9.9996233e-01 9.7226402e-06 1.0031271e-05]]\n"
     ]
    },
    {
     "data": {
      "application/vnd.jupyter.widget-view+json": {
       "model_id": "9b1927d26e5346cebb76b447fcdacca3",
       "version_major": 2,
       "version_minor": 0
      },
      "text/plain": [
       "Validation: |          | 0/? [00:00<?, ?it/s]"
      ]
     },
     "metadata": {},
     "output_type": "display_data"
    },
    {
     "name": "stdout",
     "output_type": "stream",
     "text": [
      "\n",
      "First batch verification:\n",
      "Input shape: torch.Size([32, 3, 224, 224])\n",
      "Label distribution: tensor([ 7,  8, 10,  7], device='cuda:0')\n",
      "Sample predictions: [[9.99812424e-01 1.53557165e-04 2.56619805e-05 8.39656695e-06]\n",
      " [6.81236503e-04 1.43875832e-05 9.99292731e-01 1.16059955e-05]\n",
      " [1.46449602e-03 1.01145904e-03 9.97197270e-01 3.26773210e-04]]\n"
     ]
    },
    {
     "data": {
      "application/vnd.jupyter.widget-view+json": {
       "model_id": "d97aed9b1b4645b1b1c0c515d1924d0f",
       "version_major": 2,
       "version_minor": 0
      },
      "text/plain": [
       "Validation: |          | 0/? [00:00<?, ?it/s]"
      ]
     },
     "metadata": {},
     "output_type": "display_data"
    },
    {
     "name": "stdout",
     "output_type": "stream",
     "text": [
      "\n",
      "First batch verification:\n",
      "Input shape: torch.Size([32, 3, 224, 224])\n",
      "Label distribution: tensor([10, 10,  6,  6], device='cuda:0')\n",
      "Sample predictions: [[5.5049709e-03 5.2069146e-03 8.9428452e-04 9.8839378e-01]\n",
      " [9.9973041e-01 9.7598873e-05 9.0088077e-05 8.1866077e-05]\n",
      " [8.1282837e-04 9.9829215e-01 2.9209600e-04 6.0286414e-04]]\n"
     ]
    },
    {
     "data": {
      "application/vnd.jupyter.widget-view+json": {
       "model_id": "edfaa183f131411687207b93c6884bae",
       "version_major": 2,
       "version_minor": 0
      },
      "text/plain": [
       "Validation: |          | 0/? [00:00<?, ?it/s]"
      ]
     },
     "metadata": {},
     "output_type": "display_data"
    },
    {
     "name": "stdout",
     "output_type": "stream",
     "text": [
      "\n",
      "First batch verification:\n",
      "Input shape: torch.Size([32, 3, 224, 224])\n",
      "Label distribution: tensor([ 4, 13, 10,  5], device='cuda:0')\n",
      "Sample predictions: [[1.0743273e-03 5.4657343e-04 9.9792588e-01 4.5312534e-04]\n",
      " [1.8105140e-02 2.0910237e-02 9.5622456e-01 4.7600511e-03]\n",
      " [2.0258408e-02 9.6803588e-01 3.7529222e-03 7.9526985e-03]]\n"
     ]
    },
    {
     "data": {
      "application/vnd.jupyter.widget-view+json": {
       "model_id": "3345f11412ce4ac2a1be121cbc4481c5",
       "version_major": 2,
       "version_minor": 0
      },
      "text/plain": [
       "Validation: |          | 0/? [00:00<?, ?it/s]"
      ]
     },
     "metadata": {},
     "output_type": "display_data"
    },
    {
     "name": "stdout",
     "output_type": "stream",
     "text": [
      "\n",
      "First batch verification:\n",
      "Input shape: torch.Size([32, 3, 224, 224])\n",
      "Label distribution: tensor([7, 9, 7, 9], device='cuda:0')\n",
      "Sample predictions: [[2.3146208e-04 4.8224488e-03 9.9415696e-01 7.8916753e-04]\n",
      " [1.8850469e-04 9.9978429e-01 1.5809443e-05 1.1387114e-05]\n",
      " [9.9965107e-01 2.3942674e-04 7.0843555e-05 3.8743325e-05]]\n"
     ]
    },
    {
     "data": {
      "application/vnd.jupyter.widget-view+json": {
       "model_id": "141ec1050f364b12b5cd42a2be31a8ae",
       "version_major": 2,
       "version_minor": 0
      },
      "text/plain": [
       "Validation: |          | 0/? [00:00<?, ?it/s]"
      ]
     },
     "metadata": {},
     "output_type": "display_data"
    },
    {
     "name": "stdout",
     "output_type": "stream",
     "text": [
      "\n",
      "First batch verification:\n",
      "Input shape: torch.Size([32, 3, 224, 224])\n",
      "Label distribution: tensor([ 7, 11,  8,  6], device='cuda:0')\n",
      "Sample predictions: [[9.0804633e-06 9.9998963e-01 2.8070886e-07 9.4223572e-07]\n",
      " [2.2962027e-05 3.6260310e-06 1.6343804e-06 9.9997187e-01]\n",
      " [9.9997604e-01 1.4009075e-05 6.7347682e-06 3.3274471e-06]]\n"
     ]
    },
    {
     "data": {
      "application/vnd.jupyter.widget-view+json": {
       "model_id": "5e9f93f351054964ab37e16cc6e5b62a",
       "version_major": 2,
       "version_minor": 0
      },
      "text/plain": [
       "Validation: |          | 0/? [00:00<?, ?it/s]"
      ]
     },
     "metadata": {},
     "output_type": "display_data"
    },
    {
     "name": "stdout",
     "output_type": "stream",
     "text": [
      "\n",
      "First batch verification:\n",
      "Input shape: torch.Size([32, 3, 224, 224])\n",
      "Label distribution: tensor([10, 11,  5,  6], device='cuda:0')\n",
      "Sample predictions: [[5.7212549e-04 4.9224071e-04 2.4320133e-04 9.9869245e-01]\n",
      " [3.9945744e-04 9.9881613e-01 1.8942884e-04 5.9499004e-04]\n",
      " [9.9935263e-01 3.6072111e-04 1.3785344e-04 1.4876427e-04]]\n"
     ]
    },
    {
     "data": {
      "application/vnd.jupyter.widget-view+json": {
       "model_id": "8216e44aa9394cb082ac54aa95704639",
       "version_major": 2,
       "version_minor": 0
      },
      "text/plain": [
       "Validation: |          | 0/? [00:00<?, ?it/s]"
      ]
     },
     "metadata": {},
     "output_type": "display_data"
    },
    {
     "name": "stdout",
     "output_type": "stream",
     "text": [
      "\n",
      "First batch verification:\n",
      "Input shape: torch.Size([32, 3, 224, 224])\n",
      "Label distribution: tensor([ 7,  8,  6, 11], device='cuda:0')\n",
      "Sample predictions: [[4.8612707e-04 1.5209569e-03 7.8280464e-05 9.9791473e-01]\n",
      " [5.4031628e-04 9.9910539e-01 1.9780305e-04 1.5647509e-04]\n",
      " [9.9996257e-01 2.0744268e-05 9.1157563e-06 7.6463093e-06]]\n"
     ]
    },
    {
     "data": {
      "application/vnd.jupyter.widget-view+json": {
       "model_id": "43fb15047c4e4c5a992808466b0b174d",
       "version_major": 2,
       "version_minor": 0
      },
      "text/plain": [
       "Validation: |          | 0/? [00:00<?, ?it/s]"
      ]
     },
     "metadata": {},
     "output_type": "display_data"
    },
    {
     "name": "stdout",
     "output_type": "stream",
     "text": [
      "\n",
      "First batch verification:\n",
      "Input shape: torch.Size([32, 3, 224, 224])\n",
      "Label distribution: tensor([ 7, 16,  4,  5], device='cuda:0')\n",
      "Sample predictions: [[1.2389715e-03 9.9793470e-01 3.7934390e-04 4.4697634e-04]\n",
      " [9.9983978e-01 1.5471958e-06 1.3160480e-04 2.7105196e-05]\n",
      " [5.8480469e-03 9.8926991e-01 2.7222517e-03 2.1597964e-03]]\n"
     ]
    },
    {
     "data": {
      "application/vnd.jupyter.widget-view+json": {
       "model_id": "445efeed51374fc4adf1712f051f6a96",
       "version_major": 2,
       "version_minor": 0
      },
      "text/plain": [
       "Validation: |          | 0/? [00:00<?, ?it/s]"
      ]
     },
     "metadata": {},
     "output_type": "display_data"
    },
    {
     "name": "stdout",
     "output_type": "stream",
     "text": [
      "\n",
      "First batch verification:\n",
      "Input shape: torch.Size([32, 3, 224, 224])\n",
      "Label distribution: tensor([11, 14,  3,  4], device='cuda:0')\n",
      "Sample predictions: [[4.5751702e-05 1.4312305e-05 3.3933440e-05 9.9990594e-01]\n",
      " [1.2470775e-02 9.8416752e-01 2.5218662e-03 8.3978439e-04]\n",
      " [5.8630256e-05 9.9988091e-01 2.0460915e-05 3.9904346e-05]]\n"
     ]
    },
    {
     "data": {
      "application/vnd.jupyter.widget-view+json": {
       "model_id": "3383d37b40004c048432b64379ccb952",
       "version_major": 2,
       "version_minor": 0
      },
      "text/plain": [
       "Validation: |          | 0/? [00:00<?, ?it/s]"
      ]
     },
     "metadata": {},
     "output_type": "display_data"
    }
   ],
   "source": [
    "#%% -------- 5. Training Execution --------\n",
    "train_loader = DataLoader(train_dataset, BATCH_SIZE, sampler=sampler, \n",
    "                         num_workers=NUM_WORKERS, persistent_workers=True)\n",
    "val_loader = DataLoader(val_dataset, BATCH_SIZE, num_workers=NUM_WORKERS, \n",
    "                       persistent_workers=True)\n",
    "\n",
    "trainer = pl.Trainer(\n",
    "    accelerator='gpu',\n",
    "    devices=1,\n",
    "    max_epochs=EPOCHS,\n",
    "    precision=PRECISION,\n",
    "    callbacks=[\n",
    "        pl.callbacks.ModelCheckpoint(monitor='val_f1', mode='max'),\n",
    "        pl.callbacks.EarlyStopping(monitor='val_f1', patience=10, mode='max')\n",
    "    ],\n",
    "    deterministic=True\n",
    ")\n",
    "\n",
    "trainer.fit(LitModel(), train_loader, val_loader)"
   ]
  },
  {
   "cell_type": "code",
   "execution_count": 10,
   "metadata": {},
   "outputs": [
    {
     "name": "stderr",
     "output_type": "stream",
     "text": [
      "C:\\Users\\DELL 5540\\AppData\\Roaming\\Python\\Python311\\site-packages\\lightning\\fabric\\utilities\\cloud_io.py:55: You are using `torch.load` with `weights_only=False` (the current default value), which uses the default pickle module implicitly. It is possible to construct malicious pickle data which will execute arbitrary code during unpickling (See https://github.com/pytorch/pytorch/blob/main/SECURITY.md#untrusted-models for more details). In a future release, the default value for `weights_only` will be flipped to `True`. This limits the functions that could be executed during unpickling. Arbitrary objects will no longer be allowed to be loaded via this mode unless they are explicitly allowlisted by the user via `torch.serialization.add_safe_globals`. We recommend you start setting `weights_only=True` for any use case where you don't have full control of the loaded file. Please open an issue on GitHub for any issues related to this experimental feature.\n"
     ]
    },
    {
     "name": "stdout",
     "output_type": "stream",
     "text": [
      "\n",
      "Classification Report:\n",
      "                    precision    recall  f1-score   support\n",
      "\n",
      "            Type 0       1.00      1.00      1.00        35\n",
      "Type 1 Neurapraxia       1.00      1.00      1.00        86\n",
      "Type 2 Axonotemsis       1.00      1.00      1.00        13\n",
      "Type 3 Nurotemesis       1.00      1.00      1.00        15\n",
      "\n",
      "          accuracy                           1.00       149\n",
      "         macro avg       1.00      1.00      1.00       149\n",
      "      weighted avg       1.00      1.00      1.00       149\n",
      "\n"
     ]
    },
    {
     "data": {
      "image/png": "[encoded data removed]",
      "text/plain": [
       "<Figure size 1000x800 with 2 Axes>"
      ]
     },
     "metadata": {},
     "output_type": "display_data"
    }
   ],
   "source": [
    "#%% -------- 6. Final Evaluation --------\n",
    "best_model = LitModel.load_from_checkpoint(trainer.checkpoint_callback.best_model_path)\n",
    "test_loader = DataLoader(test_dataset, BATCH_SIZE, num_workers=NUM_WORKERS)\n",
    "\n",
    "def evaluate():\n",
    "    best_model.eval()\n",
    "    all_preds, all_targets = [], []\n",
    "    \n",
    "    with torch.no_grad():\n",
    "        for x, y in test_loader:\n",
    "            x, y = x.to(best_model.device), y.to(best_model.device)\n",
    "            logits = best_model(x)\n",
    "            all_preds.extend(torch.argmax(logits, 1).cpu().numpy())\n",
    "            all_targets.extend(y.cpu().numpy())\n",
    "    \n",
    "    print(\"\\nClassification Report:\")\n",
    "    print(classification_report(all_targets, all_preds, target_names=CLASS_NAMES))\n",
    "    \n",
    "    plt.figure(figsize=(10,8))\n",
    "    sns.heatmap(confusion_matrix(all_targets, all_preds), \n",
    "                annot=True, fmt='d', xticklabels=CLASS_NAMES, yticklabels=CLASS_NAMES)\n",
    "    plt.title('Confusion Matrix')\n",
    "    plt.show()\n",
    "\n",
    "evaluate()"
   ]
  }
 ],
 "metadata": {
  "kernelspec": {
   "display_name": "Python 3",
   "language": "python",
   "name": "python3"
  },
  "language_info": {
   "codemirror_mode": {
    "name": "ipython",
    "version": 3
   },
   "file_extension": ".py",
   "mimetype": "text/x-python",
   "name": "python",
   "nbconvert_exporter": "python",
   "pygments_lexer": "ipython3",
   "version": "3.11.4"
  }
 },
 "nbformat": 4,
 "nbformat_minor": 2
}
